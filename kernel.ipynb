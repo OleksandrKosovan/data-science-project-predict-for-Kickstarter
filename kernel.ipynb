{
  "cells": [
    {
      "metadata": {
        "_uuid": "c317582c1406c2d63fdc808cb5dd72d68f0f1d75",
        "_cell_guid": "9d62d4ae-6de6-426d-9c3c-22ce74214c7f"
      },
      "cell_type": "markdown",
      "source": "# Python walk-through for Kickstarter data analysis & classification"
    },
    {
      "metadata": {
        "_uuid": "04b47da13078a99b317463365b878e098cd27dd3",
        "_cell_guid": "cb1f57ee-03eb-4a6e-b3e5-a03eadde7486"
      },
      "cell_type": "markdown",
      "source": "## *This is a work in progress. Comments and critical feedback are always welcome.*"
    },
    {
      "metadata": {
        "_uuid": "aecbbfb354b909959ee5b5e3cacc7ab223bbe889",
        "_cell_guid": "4f754a1e-c3ea-48a7-ab46-14caca310f96"
      },
      "cell_type": "markdown",
      "source": "###### Note:\nWe have task with classification for kickstarter project. I use different model for this task.\n\n###### Structure\n1. Load Data and Modules\n2. Initial Exploration.\n3. Visualization data\n4. Preparation data\n5. Preparing for modelling\n6. Build models"
    },
    {
      "metadata": {
        "_uuid": "beb548a1ba049638d73deed6b7c9e5f5deac53ff",
        "_cell_guid": "8d5d28e3-1797-403a-9333-0abadecaee4c"
      },
      "cell_type": "markdown",
      "source": "English is not my native language, so sorry for any mistake.\n\nIf you like my Kernel, give me some feedback and also **votes up** my kernel."
    },
    {
      "metadata": {
        "_uuid": "4b47c2b4f4ea0f955b641a72e473b78e8336d02c",
        "_cell_guid": "82ec5746-356b-4e5c-9588-e9d11dd69c72"
      },
      "cell_type": "markdown",
      "source": "# What is Kickstarter?"
    },
    {
      "metadata": {
        "_uuid": "4e316de2259cbd8b34a7751da195832886e33435",
        "_cell_guid": "c47f3fd1-9441-4c82-a2d0-29b8aac29686"
      },
      "cell_type": "markdown",
      "source": "Kickstarter is an American public-benefit corporation based in Brooklyn, New York, that maintains a global crowdfunding platform focused on creativity and merchandising. The company's stated mission is to \"help bring creative projects to life\". Kickstarter has reportedly received more than $1.9 billion in pledges from 9.4 million backers to fund 257,000 creative projects, such as films, music, stage shows, comics, journalism, video games, technology and food-related projects.\n\nPeople who back Kickstarter projects are offered tangible rewards or experiences in exchange for their pledges.[6] This model traces its roots to subscription model of arts patronage, where artists would go directly to their audiences to fund their work. [More...](https://en.wikipedia.org/wiki/Kickstarter)\n\nLINK: [Kickstarter](https://www.kickstarter.com/)"
    },
    {
      "metadata": {
        "_uuid": "a99717ede999629f1fc5424197dcb7e297b45202",
        "_cell_guid": "aeff3370-6ba5-4c90-85c8-8053a65dfb0e"
      },
      "cell_type": "markdown",
      "source": "![title](http://icopartners.com/newblog/wp-content/uploads/2014/03/kickstarter_header.png)"
    },
    {
      "metadata": {
        "_uuid": "d12d0406db904a54c22103cebb05212da342cdbf",
        "_cell_guid": "7e1d06ca-49bd-4a5b-bb11-1e466294701b"
      },
      "cell_type": "markdown",
      "source": "# **1. Load Data and Modules**"
    },
    {
      "metadata": {
        "_uuid": "264c0d49a04f5dca595d8a3c5d540fd60079a1f8",
        "_cell_guid": "65bf4147-0b5a-484b-bf47-f159cc05098c"
      },
      "cell_type": "markdown",
      "source": "**Load Python modules**"
    },
    {
      "metadata": {
        "_uuid": "afdb535ac59859ff137bc74bf545738c3ca6bea5",
        "_cell_guid": "033daa31-02fa-4274-a609-16d687547f08",
        "collapsed": true,
        "trusted": true
      },
      "cell_type": "code",
      "source": "import pandas as pd\nimport numpy as np\nimport string",
      "execution_count": null,
      "outputs": []
    },
    {
      "metadata": {
        "_uuid": "733fcc8a247d0cee6b1e846fbc466f9e8f39570a",
        "_cell_guid": "d0177648-b238-4ee8-9687-164901c4d89f",
        "trusted": true,
        "collapsed": true
      },
      "cell_type": "code",
      "source": "# visualization\n\nimport seaborn as sns\nimport matplotlib.pyplot as plt\n%matplotlib inline\n\nimport plotly.tools as tls\nimport plotly.offline as py\nfrom plotly.offline import init_notebook_mode, iplot, plot\nimport plotly.graph_objs as go\ninit_notebook_mode(connected=True)\nimport warnings\nfrom collections import Counter",
      "execution_count": null,
      "outputs": []
    },
    {
      "metadata": {
        "_uuid": "5b72fbd979a2165220b5eada7da1b2a342176a86",
        "_cell_guid": "8d9ef4f5-5359-4f43-878d-d09a56a2d2d6",
        "trusted": true,
        "collapsed": true
      },
      "cell_type": "code",
      "source": "from sklearn.cross_validation import train_test_split",
      "execution_count": null,
      "outputs": []
    },
    {
      "metadata": {
        "_uuid": "20574c6cce1c8b96b49974caaa2cc591760647e4",
        "_cell_guid": "03150243-ec93-41c1-901b-646a00cc630c",
        "collapsed": true,
        "trusted": true
      },
      "cell_type": "code",
      "source": "# machine learning\nfrom sklearn.linear_model import LogisticRegression\nfrom sklearn.svm import SVC, LinearSVC\nfrom sklearn.ensemble import RandomForestClassifier\nfrom sklearn.neighbors import KNeighborsClassifier\nfrom sklearn.naive_bayes import GaussianNB\nfrom sklearn.linear_model import SGDClassifier\nfrom sklearn.tree import DecisionTreeClassifier\nfrom sklearn.ensemble import BaggingClassifier\nfrom sklearn.neural_network import MLPClassifier\nfrom sklearn.ensemble import AdaBoostClassifier\nfrom sklearn.ensemble import GradientBoostingClassifier\n\nimport lightgbm as lgb\nfrom lightgbm import LGBMClassifier",
      "execution_count": null,
      "outputs": []
    },
    {
      "metadata": {
        "_uuid": "ecc98abf13bf9e7d106d644dae54170864edd28b",
        "_cell_guid": "17c197c8-7369-4be3-b647-1d8a11975bb6"
      },
      "cell_type": "markdown",
      "source": "**Load input data.** "
    },
    {
      "metadata": {
        "_uuid": "8a9f6942d08a8ef003f7c9df67c34fa5b46422cb",
        "_cell_guid": "5e8d36e3-6576-49c1-ac9c-57aaaa40fec7",
        "collapsed": true,
        "trusted": true
      },
      "cell_type": "code",
      "source": "# Upload data\ndf = pd.read_csv('../input/ks-projects-201801.csv',encoding ='latin1')",
      "execution_count": null,
      "outputs": []
    },
    {
      "metadata": {
        "_uuid": "980259938cfaa54774cc59ef12f6a2403fd07a51",
        "_cell_guid": "73f40e4d-52df-4f71-86ef-c0e31885421f"
      },
      "cell_type": "markdown",
      "source": "# 2. Initial Exploration"
    },
    {
      "metadata": {
        "_uuid": "56c30a7f4d20ddf199aff2e83ed2baf7cb66a3e2",
        "_cell_guid": "cf669f99-54b8-413e-8f53-300bbe344caa",
        "trusted": true,
        "collapsed": true
      },
      "cell_type": "code",
      "source": "df.head(5)",
      "execution_count": null,
      "outputs": []
    },
    {
      "metadata": {
        "_uuid": "20bf456459db23fe25ef2dea81e03eaf988449d0",
        "_cell_guid": "585e4a48-a662-4fd5-9f84-4d812afea888",
        "trusted": true,
        "collapsed": true
      },
      "cell_type": "code",
      "source": "df.describe()",
      "execution_count": null,
      "outputs": []
    },
    {
      "metadata": {
        "_uuid": "ebbfb368b4ee80bc6a3db677068add1670945b0a",
        "_cell_guid": "b5eacd4c-609a-4577-b010-665bae927f99",
        "trusted": true,
        "collapsed": true
      },
      "cell_type": "code",
      "source": "print(df.shape)\nprint(df.info())",
      "execution_count": null,
      "outputs": []
    },
    {
      "metadata": {
        "_uuid": "4ed5657533c97b721d64e696e0d6697fabc12219",
        "_cell_guid": "dcd45977-5281-44a7-8d4e-9624ceda3d27",
        "trusted": true,
        "collapsed": true
      },
      "cell_type": "code",
      "source": "print(df.nunique())",
      "execution_count": null,
      "outputs": []
    },
    {
      "metadata": {
        "_uuid": "c81095711386f0c1f0268680c955e49870de7f95",
        "_cell_guid": "94b30500-8763-40f1-91ce-c1403e7d9b68"
      },
      "cell_type": "markdown",
      "source": "# 3. Visualization data\n\nThank`s for some plots, \n\nhttps://www.kaggle.com/kabure/kickstarter-interactive-explanatory-exploration"
    },
    {
      "metadata": {
        "_uuid": "dcb1b96561aa4e079c7f63615793b9029ab34135",
        "_cell_guid": "64810223-be70-4e7d-ae8d-2590be322df0",
        "collapsed": true
      },
      "cell_type": "markdown",
      "source": "**Looking the state column distribution**"
    },
    {
      "metadata": {
        "_uuid": "529092345af9138b80e6717177e22d00449b311d",
        "_cell_guid": "a8fc6acf-4d7d-4765-9f94-5ad499221280",
        "trusted": true,
        "collapsed": true
      },
      "cell_type": "code",
      "source": "percentual_sucess = round(df[\"state\"].value_counts() / len(df[\"state\"]) * 100,2)\n\nprint(\"State Percentual in %: \")\nprint(percentual_sucess)\n\nstate = round(df[\"state\"].value_counts() / len(df[\"state\"]) * 100,2)\n\nlabels = list(state.index)\nvalues = list(state.values)\n\ntrace1 = go.Pie(labels=labels, values=values, marker=dict(colors=['red']))\n\nlayout = go.Layout(title='Distribuition of States', legend=dict(orientation=\"h\"));\n\nfig = go.Figure(data=[trace1], layout=layout)\niplot(fig)",
      "execution_count": null,
      "outputs": []
    },
    {
      "metadata": {
        "_uuid": "138bb5e813eb74c19e205bbee1e906a7d41bcf5c",
        "_cell_guid": "6f73c728-e366-4ffc-b887-c1b1dd3b497e",
        "collapsed": true
      },
      "cell_type": "markdown",
      "source": "It is very iteresting.\n\n52.2 % - **failed** (We'll use it value for classification | It will be = **0**).\n\n35.4% - **successful** (We'll use it value for classification | It will be = **1**)\n\nOther values we won't use."
    },
    {
      "metadata": {
        "_uuid": "fabd4be63fbd8449aab381320d9b11ad0f033e0a",
        "_cell_guid": "2f3872a1-1cbb-4b47-99af-b3721236d537",
        "collapsed": true
      },
      "cell_type": "markdown",
      "source": "###### Exploring the distribution logarithm of these values"
    },
    {
      "metadata": {
        "_uuid": "843d1c14f339c231cd63aadada4d39bc3cda1d98",
        "_cell_guid": "f92f878a-1033-4c26-b531-610e3aaf9471",
        "trusted": true,
        "collapsed": true
      },
      "cell_type": "code",
      "source": "df_failed = df[df[\"state\"] == \"failed\"]\ndf_sucess = df[df[\"state\"] == \"successful\"]\n\n#First plot\ntrace0 = go.Histogram(\n    x= np.log(df.usd_goal_real + 1).head(100000),\n    histnorm='probability', showlegend=False,\n    xbins=dict(\n        start=-5.0,\n        end=19.0,\n        size=1),\n    autobiny=True)\n\n#Second plot\ntrace1 = go.Histogram(\n    x = np.log(df.usd_pledged_real + 1).head(100000),\n    histnorm='probability', showlegend=False,\n    xbins=dict(\n        start=-1.0,\n        end=17.0,\n        size=1))\n\n# Add histogram data\nx1 = np.log(df_failed['usd_goal_real']+1).head(100000)\nx2 = np.log(df_sucess[\"usd_goal_real\"]+1).head(100000)\n\ntrace3 = go.Histogram(\n    x=x1,\n    opacity=0.60, nbinsx=30, name='Goals Failed', histnorm='probability'\n)\ntrace4 = go.Histogram(\n    x=x2,\n    opacity=0.60, nbinsx=30, name='Goals Sucessful', histnorm='probability'\n)\n\n\ndata = [trace0, trace1, trace3, trace4]\nlayout = go.Layout(barmode='overlay')\n\n#Creating the grid\nfig = tls.make_subplots(rows=2, cols=2, specs=[ [{'colspan': 2}, None], [{}, {}]],\n                          subplot_titles=('Failed and Sucessful Projects',\n                                          'Goal','Pledged'))\n\n#setting the figs\nfig.append_trace(trace0, 2, 1)\nfig.append_trace(trace1, 2, 2)\nfig.append_trace(trace3, 1, 1)\nfig.append_trace(trace4, 1, 1)\n\nfig['layout'].update(title=\"Distribuitions\",\n                     height=500, width=900, barmode='overlay')\niplot(fig)",
      "execution_count": null,
      "outputs": []
    },
    {
      "metadata": {
        "_uuid": "2b4527745b921f4d10cbf82528728208f0e29d32",
        "_cell_guid": "f515df66-0cff-4118-ad25-a9e927f64604",
        "collapsed": true,
        "trusted": false
      },
      "cell_type": "code",
      "source": "main_cats = df[\"main_category\"].value_counts()\nmain_cats_failed = df[df[\"state\"] == \"failed\"][\"main_category\"].value_counts()\nmain_cats_sucess = df[df[\"state\"] == \"successful\"][\"main_category\"].value_counts()",
      "execution_count": null,
      "outputs": []
    },
    {
      "metadata": {
        "_uuid": "151db2c5c52616b5d36412f4adcfff27d477cc86",
        "_cell_guid": "c488fa22-a195-4c9c-b01f-6979e8cc863b",
        "collapsed": true,
        "trusted": false
      },
      "cell_type": "code",
      "source": "#First plot\ntrace0 = go.Bar(\n    x=main_cats_failed.index,\n    y=main_cats_failed.values,\n    name=\"Failed Category's\"\n)\n#Second plot\ntrace1 = go.Bar(\n    x=main_cats_sucess.index,\n    y=main_cats_sucess.values,\n    name=\"Sucess Category's\"\n)\n#Third plot\ntrace2 = go.Bar(\n    x=main_cats.index,\n    y=main_cats.values,\n    name=\"All Category's Distribuition\"\n)\n\n#Creating the grid\nfig = tls.make_subplots(rows=2, cols=2, specs=[[{}, {}], [{'colspan': 2}, None]],\n                          subplot_titles=('Failed','Sucessful', \"General Category's\"))\n\n#setting the figs\nfig.append_trace(trace0, 1, 1)\nfig.append_trace(trace1, 1, 2)\nfig.append_trace(trace2, 2, 1)\n\nfig['layout'].update(showlegend=True, title=\"Main Category's Distribuition\",bargap=0.05)\niplot(fig)",
      "execution_count": null,
      "outputs": []
    },
    {
      "metadata": {
        "_uuid": "552f25c39a9cb06eca83239ae04ed07780817b27",
        "_cell_guid": "d71aa163-5124-4131-81d6-299cb7401423"
      },
      "cell_type": "markdown",
      "source": "We visualization main category. We have 15 categories"
    },
    {
      "metadata": {
        "_uuid": "df9efcf4e37f87e988b0487ba02afb53e0b517f4",
        "_cell_guid": "88dd06ea-af76-48ac-a300-d434138c4480",
        "collapsed": true,
        "trusted": false
      },
      "cell_type": "code",
      "source": "df['main_category'].value_counts().plot.bar()\nplt.show()",
      "execution_count": null,
      "outputs": []
    },
    {
      "metadata": {
        "_uuid": "b1c92ff112ea2f7c8818d264393e3ba6a0667da0",
        "_cell_guid": "edb6e915-9200-4ff2-98b4-988c58d895d1"
      },
      "cell_type": "markdown",
      "source": "###### Visualization\nWe visualization currency and country. 'USD' & 'US' are the biggest."
    },
    {
      "metadata": {
        "_uuid": "eeb431facd102a5c85203fefc30d980958169e02",
        "_cell_guid": "13abf990-5dca-444d-825a-c0bbb092237c",
        "collapsed": true,
        "trusted": false
      },
      "cell_type": "code",
      "source": "df['currency'].value_counts().plot.bar()\nplt.show()\n\ndf['country'].value_counts().plot.bar()\nplt.show()",
      "execution_count": null,
      "outputs": []
    },
    {
      "metadata": {
        "_uuid": "23f635ba81cc3ff46b1e0aa5cfdd4a93bd8dde65",
        "_cell_guid": "0be5884b-aefd-4c80-b663-9c2a03249fcd"
      },
      "cell_type": "markdown",
      "source": "###### Visualization\nWe visualization project`s stay. We will use only failed & successful"
    },
    {
      "metadata": {
        "_uuid": "f3678e497fb72ec6905967f3085dc08542d2be63",
        "_cell_guid": "ecd46a58-ea47-432e-a06d-b8744d945f7a",
        "collapsed": true,
        "trusted": false
      },
      "cell_type": "code",
      "source": "df['state'].value_counts().plot.bar()\nplt.show()",
      "execution_count": null,
      "outputs": []
    },
    {
      "metadata": {
        "_uuid": "7b678bf91dcc6db94a81c7615de2cd77e8482332",
        "_cell_guid": "fe04bc32-3c25-48f9-a324-3e537b962ea6"
      },
      "cell_type": "markdown",
      "source": "# 4. Preparation data"
    },
    {
      "metadata": {
        "_uuid": "26cb6f270bc317496b4f94832b36b09a9b673387",
        "_cell_guid": "018a58cd-90d9-496a-a209-cc8e450e991f",
        "trusted": true,
        "collapsed": true
      },
      "cell_type": "code",
      "source": "df = df[(df['state'] == 'failed') | (df['state'] == 'successful')].copy()\nprint(df.shape)",
      "execution_count": null,
      "outputs": []
    },
    {
      "metadata": {
        "_uuid": "af01084e2c622498b220726519d3dade909293e1",
        "_cell_guid": "2e646012-8c26-4337-8eed-026c7257dc73"
      },
      "cell_type": "markdown",
      "source": "###### If we won`t use column to we delete this column"
    },
    {
      "metadata": {
        "_uuid": "ecdaa5c70e9ca4a9c20bc6328a9746df540c7315",
        "_cell_guid": "a15e75f9-a97c-4545-b2e9-ceff41f499a3",
        "trusted": true,
        "collapsed": true
      },
      "cell_type": "code",
      "source": "# Delete column => \n# 'ID', 'name', 'category', 'usd pledged', 'usd_pledged_real'\n\ndf = df.drop('ID', 1)\n    \ndf = df.drop('name', 1)\n\n#df = df.drop('category', 1)\n\ndf = df.drop('usd pledged', 1)\n    \ndf = df.drop('usd_pledged_real', 1)\n\ndf = df.drop('backers', 1)\n\nprint(df.shape)",
      "execution_count": null,
      "outputs": []
    },
    {
      "metadata": {
        "_uuid": "f8d6fe64c4ed261a90b85004c30f5a461f104e91",
        "_cell_guid": "f882572a-4adb-448b-a58b-a0e9ce34b5aa",
        "collapsed": true,
        "trusted": true
      },
      "cell_type": "code",
      "source": "# Create new column\n# 'duration_days' = 'deadline' - 'launched'\n\ndf['launched'] = pd.to_datetime(df['launched'])\ndf['deadline'] = pd.to_datetime(df['deadline'])\n\ndf['duration_days'] = df['deadline'].subtract(df['launched'])\ndf['duration_days'] = df['duration_days'].astype('timedelta64[D]')",
      "execution_count": null,
      "outputs": []
    },
    {
      "metadata": {
        "_uuid": "092cddf4d060ffacbd6d89f846cefbc6d587ec54",
        "_cell_guid": "96edde5c-dcd3-4375-b595-dd1d4942b77c",
        "collapsed": true,
        "trusted": true
      },
      "cell_type": "code",
      "source": "df = df.drop('launched', 1)\n\ndf = df.drop('deadline', 1)\n\ndf = df.drop('pledged', 1)",
      "execution_count": null,
      "outputs": []
    },
    {
      "metadata": {
        "_uuid": "abaf19d92070093d067342e05a51622bddf631d1",
        "_cell_guid": "d7dddc26-d8ec-4fe6-bf1f-04c9e9468ed6",
        "trusted": true,
        "collapsed": true
      },
      "cell_type": "code",
      "source": "df = df[(df['goal'] <= 100000) & (df['goal'] >= 1000)].copy()\ndf.shape",
      "execution_count": null,
      "outputs": []
    },
    {
      "metadata": {
        "_uuid": "5b20da0982fb18445199b08fe488c9128c89de35",
        "_cell_guid": "83f6b8ed-2b35-4f0b-aa99-4d991f572e2d",
        "trusted": true,
        "collapsed": true
      },
      "cell_type": "code",
      "source": "df.head(5)",
      "execution_count": null,
      "outputs": []
    },
    {
      "metadata": {
        "_uuid": "55674077648287a57810bb0cf771942f7fbd7019",
        "_cell_guid": "4a0ea0d8-3a0d-4ed9-9cea-9700231ed42f"
      },
      "cell_type": "markdown",
      "source": "######  Encodding column 'state'"
    },
    {
      "metadata": {
        "_uuid": "ef49ec51147b49e51a735f9b4abecc0c988525cd",
        "_cell_guid": "3a4a085d-af03-42c3-bc36-5ee052506609",
        "collapsed": true,
        "trusted": false
      },
      "cell_type": "code",
      "source": "# Encoding column 'state',\n# failed = 0, successful = 1\n\ndf['state'] = df['state'].map({\n        'failed': 0,\n        'successful': 1         \n})",
      "execution_count": null,
      "outputs": []
    },
    {
      "metadata": {
        "_uuid": "b6b15f70ab9e21ed695b160400612d3900cc5db6",
        "_cell_guid": "834e2431-9707-4ce7-954b-41496516e91f",
        "collapsed": true,
        "trusted": false
      },
      "cell_type": "code",
      "source": "print(df.shape)\ndf.head(5)",
      "execution_count": null,
      "outputs": []
    },
    {
      "metadata": {
        "_uuid": "5cccfef3266e87a1bc2492681902733649d29815",
        "_cell_guid": "30b83ef9-d3e3-4917-a3b9-f59c74412f60"
      },
      "cell_type": "markdown",
      "source": "###### Encodding column 'category'"
    },
    {
      "metadata": {
        "_uuid": "050e20beee043b4bc43e672c66d0ae2deee5acbd",
        "_cell_guid": "03854b93-b19d-44e4-ae2c-d7fbf94e8c71",
        "collapsed": true,
        "trusted": false
      },
      "cell_type": "code",
      "source": "# We use one-hot-codding\n\ndf = pd.get_dummies(df, columns = ['category'])",
      "execution_count": null,
      "outputs": []
    },
    {
      "metadata": {
        "_uuid": "fa2c3cc795170d0f983c7b294d2e054fef5a8725",
        "_cell_guid": "e81a1370-fbf5-4a2c-affd-fdf81816bb2c"
      },
      "cell_type": "markdown",
      "source": "###### Encodding column 'main_category'"
    },
    {
      "metadata": {
        "_uuid": "f90a5d53d4f43d5add11a50e30d27e619cd46361",
        "_cell_guid": "0c1f0925-3233-45f7-a290-100f3d73198c",
        "collapsed": true,
        "trusted": false
      },
      "cell_type": "code",
      "source": "# We use one-hot-codding\n\ndf = pd.get_dummies(df, columns = ['main_category'])",
      "execution_count": null,
      "outputs": []
    },
    {
      "metadata": {
        "_uuid": "cbfa53a5efa1094fa2d5fd53668630cb92722660",
        "_cell_guid": "ae074ec8-831a-4ad3-b0c8-e70189d77b2c",
        "collapsed": true,
        "trusted": false
      },
      "cell_type": "code",
      "source": "# Rename 'main_category_Film & Video' to 'main_category_Film'\n\ndf.rename(columns={\"main_category_Film & Video\": \"main_category_Film\"}, inplace=True)\nprint('DONE')",
      "execution_count": null,
      "outputs": []
    },
    {
      "metadata": {
        "_uuid": "7a6a1fe69fcf954275ef5e933d6d0161258175e3",
        "_cell_guid": "33f879e2-9212-4aa1-95b1-b3d8fafb14ff",
        "collapsed": true,
        "trusted": false
      },
      "cell_type": "code",
      "source": "# Check\n\nprint(df.columns)\nprint(df.shape)",
      "execution_count": null,
      "outputs": []
    },
    {
      "metadata": {
        "_uuid": "18980eee952d3e0cb425c7ea5e0619676c60618f",
        "_cell_guid": "c9b4c964-9540-42e6-9646-bc62721de142"
      },
      "cell_type": "markdown",
      "source": "###### Encodding column 'currency'"
    },
    {
      "metadata": {
        "_uuid": "ad6b1f75472160aa83a5df35bda6054ff2f584ca",
        "_cell_guid": "fe78293a-8a62-426b-9568-9845063b4cf3",
        "collapsed": true,
        "trusted": false
      },
      "cell_type": "code",
      "source": "# We use one-hot-codding\n\ndf = pd.get_dummies(df, columns = ['currency'])",
      "execution_count": null,
      "outputs": []
    },
    {
      "metadata": {
        "_uuid": "350bed080b9e7170da014d31d0b772a84ef3e3fe",
        "_cell_guid": "e64aef3d-d641-43a8-90c6-bc3410fa5ed8",
        "collapsed": true,
        "trusted": false
      },
      "cell_type": "code",
      "source": "print(df.columns)\nprint(df.shape)",
      "execution_count": null,
      "outputs": []
    },
    {
      "metadata": {
        "_uuid": "292652d3c9797d7c77ce4a963c21c28911c74324",
        "_cell_guid": "a008e39b-eed0-4109-9a58-a377f5ba0f85"
      },
      "cell_type": "markdown",
      "source": "###### Encodding column 'country'"
    },
    {
      "metadata": {
        "_uuid": "4d6d6b5fa7ce1600cfac31f00d42d22b9410b665",
        "_cell_guid": "b83dc26f-e894-4a47-8189-11436596875d",
        "trusted": true,
        "collapsed": true
      },
      "cell_type": "code",
      "source": "# use one-hot-coddsing\n\ndf = pd.get_dummies(df, columns=['country'])",
      "execution_count": null,
      "outputs": []
    },
    {
      "metadata": {
        "_uuid": "a82c2e50c67d7593bcddf7f4fbc4e479c73b76ea",
        "_cell_guid": "75fdff7b-948f-44c8-aeae-207d9863582f",
        "trusted": true,
        "collapsed": true
      },
      "cell_type": "code",
      "source": "print(df.columns)\nprint(df.shape)",
      "execution_count": null,
      "outputs": []
    },
    {
      "metadata": {
        "_uuid": "292084ccc9a96e5861f38edfea11a59856977a4f"
      },
      "cell_type": "markdown",
      "source": "# I will use 'name' for modeling. First step"
    },
    {
      "metadata": {
        "trusted": true,
        "collapsed": true,
        "_uuid": "fa1d150b9091a49dbf43cf4c154487b4dab6ba66"
      },
      "cell_type": "code",
      "source": "# Upload data\nname = pd.read_csv('../input/ks-projects-201801.csv',encoding ='latin1')",
      "execution_count": null,
      "outputs": []
    },
    {
      "metadata": {
        "trusted": true,
        "_uuid": "1fd456ebc5dad31f485f2fa3472d6501fcff951f",
        "collapsed": true
      },
      "cell_type": "code",
      "source": "# We use only 'name' & 'state'\nname = name.drop(['ID', 'category', 'main_category', 'currency', 'deadline',\n       'goal', 'launched', 'pledged', 'backers', 'country',\n       'usd pledged', 'usd_pledged_real', 'usd_goal_real'], 1)\nprint(name.shape)\n\nname = name[(name['state'] == 'failed') | (name['state'] == 'successful')].copy()\nprint(name.shape)\n\n# Encoding column 'state',\n# failed = 0, successful = 1\nname['state'] = name['state'].map({\n        'failed': 0,\n        'successful': 1         \n})",
      "execution_count": null,
      "outputs": []
    },
    {
      "metadata": {
        "_uuid": "3fc68f5a5f741abaf53063b90cf26b0e69ef649f"
      },
      "cell_type": "markdown",
      "source": "### Manual Tokenization. Cleaning project`s names\n\nTutorial for clean text is [here...](https://machinelearningmastery.com/clean-text-machine-learning-python/)"
    },
    {
      "metadata": {
        "trusted": true,
        "_uuid": "b9e7b8a10f32654262f9a988c4f51ed14bf52474",
        "collapsed": true
      },
      "cell_type": "code",
      "source": "# column 'name' to string\nname['name'] = name['name'].astype(str)",
      "execution_count": null,
      "outputs": []
    },
    {
      "metadata": {
        "trusted": true,
        "_uuid": "c19d762022ace308469f7b2c285293b6da40ab80",
        "collapsed": true
      },
      "cell_type": "code",
      "source": "# split each \"name\"\nname['name'] = name['name'].str.split()\nname.head()",
      "execution_count": null,
      "outputs": []
    },
    {
      "metadata": {
        "trusted": true,
        "_uuid": "0cf237f96375a54b06144674dbf8c2d810eb5780",
        "collapsed": true
      },
      "cell_type": "code",
      "source": "# failed, successful, canceled, undefined, live, suspended\n# check key word\n\ni = 0\nfor n in name['name']:\n    if 'successful' in n:\n        i = i+1\n    if 'failed' in n:\n        i = i+1\n        \nprint(i)\n\n# it`s good. We dont need clean key word",
      "execution_count": null,
      "outputs": []
    },
    {
      "metadata": {
        "trusted": true,
        "_uuid": "1651f249e448b334679859136e9d6fc01cbde392",
        "collapsed": true
      },
      "cell_type": "code",
      "source": "# clean each name. We need 'name' without punctuation\n\nname['name'] = name['name'].apply(lambda x:' '.join([i for i in x if i not in string.punctuation]))",
      "execution_count": null,
      "outputs": []
    },
    {
      "metadata": {
        "trusted": true,
        "_uuid": "f8417600ba9d62b119fcbf798ad469097862e8d5",
        "collapsed": true
      },
      "cell_type": "code",
      "source": "# all words have small letters\n\nname['name'] = name['name'].str.lower()",
      "execution_count": null,
      "outputs": []
    },
    {
      "metadata": {
        "trusted": true,
        "_uuid": "9a0e41b38e82ce9956f8131ccdb0d7aaa324599f",
        "collapsed": true
      },
      "cell_type": "code",
      "source": "# Filter out Stop Words\n# Import stopwords with nltk.\n\nfrom nltk.corpus import stopwords\nstop = stopwords.words('english')\n\nname['name'] = name['name'].apply(lambda x: ' '.join([word for word in x.split() if word not in (stop)]))",
      "execution_count": null,
      "outputs": []
    },
    {
      "metadata": {
        "trusted": true,
        "_uuid": "efc94ac414fd086675f22ce42e8ad0e0b1a6dde7",
        "collapsed": true
      },
      "cell_type": "code",
      "source": "# to string\n\nname['name'] = name['name'].str.split()\nname.head()",
      "execution_count": null,
      "outputs": []
    },
    {
      "metadata": {
        "trusted": true,
        "_uuid": "08db6d4de9d99e42c0163cc74a884d2d3a97b584",
        "collapsed": true
      },
      "cell_type": "code",
      "source": "# Stem Words\n# Stemming refers to the process of reducing each word to its root or base.\n\nfrom nltk.stem.snowball import SnowballStemmer\nstemmer = SnowballStemmer(\"english\")\n\nname['name'] = name['name'].apply(lambda x: [stemmer.stem(y) for y in x])",
      "execution_count": null,
      "outputs": []
    },
    {
      "metadata": {
        "trusted": true,
        "_uuid": "f14bc20d53c317faf9512a677d9b7dd4f65ef4ee",
        "collapsed": true
      },
      "cell_type": "code",
      "source": "name.head()",
      "execution_count": null,
      "outputs": []
    },
    {
      "metadata": {
        "trusted": true,
        "collapsed": true,
        "_uuid": "d727f77bf41f77c5a537cdd6e14ed07c0b55796c"
      },
      "cell_type": "code",
      "source": "from sklearn.feature_extraction.text import CountVectorizer\nvectorizer = CountVectorizer()",
      "execution_count": null,
      "outputs": []
    },
    {
      "metadata": {
        "trusted": true,
        "_uuid": "b9f53e68e42919b573362246f87ef7d0cbbef233",
        "collapsed": true
      },
      "cell_type": "code",
      "source": "bag_of_words = CountVectorizer(tokenizer=lambda doc: doc, lowercase=False).fit_transform(name['name'])",
      "execution_count": null,
      "outputs": []
    },
    {
      "metadata": {
        "trusted": true,
        "_uuid": "e6a255f4ebd33d12659ff3fb3791dda2249c11ac",
        "collapsed": true
      },
      "cell_type": "code",
      "source": "",
      "execution_count": null,
      "outputs": []
    },
    {
      "metadata": {
        "trusted": true,
        "collapsed": true,
        "_uuid": "c93473c8f9815fa283535813c369c34b7350a5ab"
      },
      "cell_type": "code",
      "source": "",
      "execution_count": null,
      "outputs": []
    },
    {
      "metadata": {
        "_uuid": "0c2d734c2574be8bc791d4ef335274dbbea82142",
        "_cell_guid": "12d97a29-376f-418e-bcfa-637b75cf8823"
      },
      "cell_type": "markdown",
      "source": "# 5. Preparing for modelling"
    },
    {
      "metadata": {
        "_uuid": "87057327e0a405b8ccb3d2cd3526bf7edf6d8f40",
        "_cell_guid": "062ce398-e251-4218-8e4f-6444cdd568c9",
        "collapsed": true,
        "trusted": false
      },
      "cell_type": "code",
      "source": "print(df.shape)\ndf.head()",
      "execution_count": null,
      "outputs": []
    },
    {
      "metadata": {
        "_uuid": "05994fbbc5cb02837116a420d01ab60cb5f58c71",
        "_cell_guid": "02cfb48f-9180-41ac-a58a-aa832a3e7db3",
        "collapsed": true,
        "trusted": false
      },
      "cell_type": "code",
      "source": "y = df['state']\n\nprint(y.shape)\ny.head(5)",
      "execution_count": null,
      "outputs": []
    },
    {
      "metadata": {
        "_uuid": "38513dc4e204a573e8d68da016169a0f6aef2c8f",
        "_cell_guid": "51075726-242b-475d-9175-86ecdb6496b5",
        "collapsed": true,
        "trusted": false
      },
      "cell_type": "code",
      "source": "df = df.drop('state', 1)",
      "execution_count": null,
      "outputs": []
    },
    {
      "metadata": {
        "_uuid": "d86305e6584fd041c06f7c465691a9618a92e90a",
        "_cell_guid": "e6dbfc18-3703-4f70-82e6-727a7d30718a",
        "collapsed": true,
        "trusted": false
      },
      "cell_type": "code",
      "source": "# Split dataframe into random train and test subsets\n\nX_train, X_test, Y_train, Y_test = train_test_split(\n    df,\n    y, \n    test_size = 0.1,\n    random_state=42\n)\n\nprint(X_train.shape, Y_train.shape)\nprint(X_test.shape, Y_test.shape)",
      "execution_count": null,
      "outputs": []
    },
    {
      "metadata": {
        "_uuid": "202b7c85982c56f505d7455fca40ee5b8e548838",
        "_cell_guid": "4dcb8d17-82eb-494d-8132-83d58c50a724"
      },
      "cell_type": "markdown",
      "source": "# 6. Build models"
    },
    {
      "metadata": {
        "_uuid": "ab22bead026e8c54b6115aaf24e6bdaa918bf854",
        "_cell_guid": "cfc47861-6115-44ae-8985-98682ed4c0d1"
      },
      "cell_type": "markdown",
      "source": "### Logistic Regression\nLogistic regression, despite its name, is a linear model for classification rather than regression. [More...](http://scikit-learn.org/stable/modules/linear_model.html#logistic-regression)"
    },
    {
      "metadata": {
        "_uuid": "60bc6fc827688ebe767b756b720b483c8397a445",
        "_cell_guid": "c73b9c49-fb2f-4962-8b5f-65616e5f0ccf",
        "collapsed": true,
        "trusted": false
      },
      "cell_type": "code",
      "source": "# Logistic Regression\n# 60.86\n\nlogreg = LogisticRegression()\nlogreg.fit(X_train, Y_train)\n\nacc_log = round(logreg.score(X_test, Y_test) * 100, 2)\nacc_log",
      "execution_count": null,
      "outputs": []
    },
    {
      "metadata": {
        "_uuid": "99a0f9278c9cc8865d18f69298ce55eec56949b0",
        "_cell_guid": "3616edec-f45e-45c1-a13a-207aa195e6a1",
        "collapsed": true,
        "trusted": false
      },
      "cell_type": "code",
      "source": "coeff_df = pd.DataFrame(df.columns.delete(0))\ncoeff_df.columns = ['Feature']\ncoeff_df[\"Correlation\"] = pd.Series(logreg.coef_[0])\n\ncoeff_df.sort_values(by='Correlation', ascending=False)",
      "execution_count": null,
      "outputs": []
    },
    {
      "metadata": {
        "_uuid": "f1a4e56fef268fca59f254de9f09ea36fbe844d7",
        "_cell_guid": "c7a8c0b3-8ef2-4242-a05d-e50ad521855f"
      },
      "cell_type": "markdown",
      "source": "### KNN\nClassifier implementing the k-nearest neighbors vote. [More...](http://scikit-learn.org/stable/modules/generated/sklearn.neighbors.KNeighborsClassifier.html)"
    },
    {
      "metadata": {
        "_uuid": "2dd548e89022659a6c31e6e4c6094810ff2706f5",
        "_cell_guid": "0ca61c49-7727-4c57-9a3d-5e0d6b281072",
        "collapsed": true,
        "trusted": false
      },
      "cell_type": "code",
      "source": "#68.57\n\nknn = KNeighborsClassifier()\nknn.fit(X_train, Y_train)\n\nacc_knn = round(knn.score(X_test, Y_test) * 100, 2)\nacc_knn",
      "execution_count": null,
      "outputs": []
    },
    {
      "metadata": {
        "_uuid": "9abf75af0701f7b3a2e74017223bff69edff826f",
        "_cell_guid": "51a12b7c-f9cb-4223-a233-d39243f293f3",
        "collapsed": true
      },
      "cell_type": "markdown",
      "source": "## Linear SVC\nLinear Support Vector Classification. Similar to SVC with parameter kernel=’linear’, but implemented in terms of liblinear rather than libsvm, so it has more flexibility in the choice of penalties and loss functions and should scale better to large numbers of samples. [More...](http://scikit-learn.org/stable/modules/generated/sklearn.svm.LinearSVC.html)"
    },
    {
      "metadata": {
        "_uuid": "c56d58e518693f26d39ac9b686eacc599d82a6e5",
        "_cell_guid": "b39a5914-d3b8-4809-926a-280789b12b46",
        "collapsed": true,
        "trusted": false
      },
      "cell_type": "code",
      "source": "# Linear SVC\n#62.01\n\nlinear_svc = LinearSVC()\nlinear_svc.fit(X_train, Y_train)\n\nacc_linear_svc = round(linear_svc.score(X_test, Y_test) * 100, 2)\nacc_linear_svc",
      "execution_count": null,
      "outputs": []
    },
    {
      "metadata": {
        "_uuid": "9ea7463f2047b85b7e94353a9f0846d1dbd8191a",
        "_cell_guid": "be4e27da-1372-47a8-8e1a-33b0a51c03f9",
        "collapsed": true
      },
      "cell_type": "markdown",
      "source": "## Decision Tree"
    },
    {
      "metadata": {
        "_uuid": "f7f208944aee427500064d129597a10f5d325151",
        "_cell_guid": "7bfcc478-26a9-4445-8369-43ee11ef47f5",
        "collapsed": true,
        "trusted": false
      },
      "cell_type": "code",
      "source": "# Decision Tree\n#77.86\n\ndecision_tree = DecisionTreeClassifier()\ndecision_tree.fit(X_train, Y_train)\n\nacc_decision_tree = round(decision_tree.score(X_test, Y_test) * 100, 2)\nacc_decision_tree",
      "execution_count": null,
      "outputs": []
    },
    {
      "metadata": {
        "_uuid": "5d439abe6d82567b43bac0f48aa16c092f2659f6",
        "_cell_guid": "9963b270-8374-4937-8145-af189bea89a1",
        "collapsed": true
      },
      "cell_type": "markdown",
      "source": "## Random Forest"
    },
    {
      "metadata": {
        "_uuid": "0f1c8d35ae4088e09853fd1f59d7e80d6d115219",
        "_cell_guid": "05a36407-e1b3-4d87-b04a-970a201b02a8",
        "collapsed": true,
        "trusted": false
      },
      "cell_type": "code",
      "source": "# Random Forest\n# 77.86\n\nrandom_forest = RandomForestClassifier(n_estimators=100)\nrandom_forest.fit(X_train, Y_train)\n\nacc_random_forest = round(random_forest.score(X_test, Y_test) * 100, 2)\nacc_random_forest",
      "execution_count": null,
      "outputs": []
    },
    {
      "metadata": {
        "_uuid": "7137dea75322ade2abd867b2804e8f18c9b20405",
        "_cell_guid": "64c60ec0-b06b-4a64-b9dd-3a4b0eef2a34",
        "collapsed": true
      },
      "cell_type": "markdown",
      "source": "## AdaBoostClassifier\nAn AdaBoost classifier. An AdaBoost classifier is a meta-estimator that begins by fitting a classifier on the original dataset and then fits additional copies of the classifier on the same dataset but where the weights of incorrectly classified instances are adjusted such that subsequent classifiers focus more on difficult cases. [More...](http://scikit-learn.org/stable/modules/generated/sklearn.ensemble.AdaBoostClassifier.html#sklearn.ensemble.AdaBoostClassifier)"
    },
    {
      "metadata": {
        "_uuid": "e079a7ff41132c0c3bf6f1c4c8de6170d25e678c",
        "_cell_guid": "1e7da6dd-10c6-4bab-9d0a-4bd768211ffd",
        "collapsed": true,
        "trusted": false
      },
      "cell_type": "code",
      "source": "bdt = AdaBoostClassifier(DecisionTreeClassifier(max_depth=1),\n                         algorithm=\"SAMME\",\n                         n_estimators=200)\n\nbdt.fit(X_train, Y_train)\n\nacc_bdt = round(bdt.score(X_test, Y_test) * 100, 2)\nacc_bdt",
      "execution_count": null,
      "outputs": []
    },
    {
      "metadata": {
        "_uuid": "2e2cfcc2228ca0ff2abec3d6d13f83a446bd731d",
        "_cell_guid": "67cd6c33-aa22-432f-b045-c35bc6c8875c"
      },
      "cell_type": "markdown",
      "source": "## GradientBoostingClassifier\nGradient Boosting for classification. GB builds an additive model in a forward stage-wise fashion; it allows for the optimization of arbitrary differentiable loss functions.  [More...](http://scikit-learn.org/stable/modules/generated/sklearn.ensemble.GradientBoostingClassifier.html#sklearn.ensemble.GradientBoostingClassifier)"
    },
    {
      "metadata": {
        "_uuid": "c795eeb0a6df15adda87c77b3534fbf7fdc3a3a4",
        "_cell_guid": "09bf0bec-f5a2-4312-837e-383fcc61408d",
        "collapsed": true,
        "trusted": false
      },
      "cell_type": "code",
      "source": "clf_gb = GradientBoostingClassifier(n_estimators=100, \n                                 max_depth=1, \n                                 random_state=0)\nclf_gb.fit(X_train, Y_train)\n\nacc_clf_gb = round(clf_gb.score(X_test, Y_test) * 100, 2)\nacc_clf_gb",
      "execution_count": null,
      "outputs": []
    },
    {
      "metadata": {
        "_uuid": "86066591cbff0637eb4642b88f57d620034759b1",
        "_cell_guid": "91207f90-532f-49aa-9ad9-3eaddd55ed82"
      },
      "cell_type": "markdown",
      "source": "## MLPClassifier\nClass MLPClassifier implements a multi-layer perceptron (MLP) algorithm that trains using Backpropagation. [More...](http://scikit-learn.org/stable/modules/generated/sklearn.neural_network.MLPClassifier.html#sklearn.neural_network.MLPClassifier)"
    },
    {
      "metadata": {
        "_uuid": "8d85a874af56df3d45780f7de5d806a1734ac173",
        "_cell_guid": "bb864ee6-c4ce-410f-946f-5647c5681683",
        "collapsed": true,
        "trusted": false
      },
      "cell_type": "code",
      "source": "mlp = MLPClassifier(solver='lbfgs', \n                    alpha=1e-5, \n                    hidden_layer_sizes=(21, 2), \n                    random_state=1)\n\nmlp.fit(X_train, Y_train)\n\nacc_mlp = round(mlp.score(X_test, Y_test) * 100, 2)\nacc_mlp",
      "execution_count": null,
      "outputs": []
    },
    {
      "metadata": {
        "_uuid": "f696db439ab8d233688f8b0929a283f7b598153a",
        "_cell_guid": "23b0ac3a-d9c9-4c27-a557-92567d03eb0c"
      },
      "cell_type": "markdown",
      "source": "## BaggingClassifier"
    },
    {
      "metadata": {
        "_uuid": "c2a69ea68854540b8a43a1eb9b685c7db332a755",
        "_cell_guid": "d6217552-1dd8-4095-a676-0be9a0ba8ce2",
        "collapsed": true,
        "trusted": false
      },
      "cell_type": "code",
      "source": "bagging = BaggingClassifier(\n    KNeighborsClassifier(\n        n_neighbors=8,\n        weights='distance'\n        ),\n    oob_score=True,\n    max_samples=0.5,\n    max_features=1.0\n    )\nclf_bag = bagging.fit(X_train,Y_train)\n\nacc_clf_bag = round(clf_bag.score(X_test, Y_test) * 100, 2)\nacc_clf_bag",
      "execution_count": null,
      "outputs": []
    },
    {
      "metadata": {
        "_uuid": "dafc07e1b598960bb7e80ce0766b8d580fc6f25a",
        "_cell_guid": "01f32493-d3ef-46f9-a578-7f9500c15a82"
      },
      "cell_type": "markdown",
      "source": "# LGBMClassifier"
    },
    {
      "metadata": {
        "_uuid": "572396df131cc51a21cf070d50024ac45c6ed323",
        "_cell_guid": "6e447d1a-1650-413e-9c74-c80ba3271bc1",
        "collapsed": true,
        "trusted": false
      },
      "cell_type": "code",
      "source": "clf_lgbm = LGBMClassifier(\n        n_estimators=300,\n        num_leaves=15,\n        colsample_bytree=.8,\n        subsample=.8,\n        max_depth=7,\n        reg_alpha=.1,\n        reg_lambda=.1,\n        min_split_gain=.01\n    )\n\nclf_lgbm.fit(X_train, \n        Y_train,\n        eval_set= [(X_train, Y_train), (X_test, Y_test)], \n        eval_metric='auc', \n        verbose=0, \n        early_stopping_rounds=30\n       )\n\nacc_clf_lgbm = round(clf_lgbm.score(X_test, Y_test) * 100, 2)\nacc_clf_lgbm",
      "execution_count": null,
      "outputs": []
    },
    {
      "metadata": {
        "_uuid": "9718fa3436ec2779dae0e863e473ff597119367e",
        "_cell_guid": "7d3499d6-c03d-43dc-8e78-b17127823a05",
        "collapsed": true
      },
      "cell_type": "markdown",
      "source": "## Evalution models"
    },
    {
      "metadata": {
        "_uuid": "6eef8dc8f5cad44752759db1a6e3e0355af57451",
        "_cell_guid": "808ffa67-2996-4409-bc37-644703ab1154",
        "collapsed": true,
        "trusted": false
      },
      "cell_type": "code",
      "source": "models = pd.DataFrame({\n    'Model': ['KNN', 'Logistic Regression', \n              'Random Forest',   \n              'Linear SVC', \n              'Decision Tree', 'BaggingClassifier',\n             'AdaBoostClassifier', 'GradientBoostingClassifier',\n             'LGBMClassifier'],\n    'Score': [acc_knn, acc_log, \n              acc_random_forest,   \n              acc_linear_svc, acc_decision_tree,\n             acc_clf_bag, acc_bdt, acc_clf_gb, \n              acc_clf_lgbm]})\nmodels.sort_values(by='Score', ascending=False)",
      "execution_count": null,
      "outputs": []
    }
  ],
  "metadata": {
    "kernelspec": {
      "display_name": "Python 3",
      "language": "python",
      "name": "python3"
    },
    "language_info": {
      "name": "python",
      "version": "3.6.5",
      "mimetype": "text/x-python",
      "codemirror_mode": {
        "name": "ipython",
        "version": 3
      },
      "pygments_lexer": "ipython3",
      "nbconvert_exporter": "python",
      "file_extension": ".py"
    }
  },
  "nbformat": 4,
  "nbformat_minor": 1
}